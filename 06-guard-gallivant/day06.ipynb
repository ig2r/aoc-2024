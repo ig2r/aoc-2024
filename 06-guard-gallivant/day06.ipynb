{
 "cells": [
  {
   "cell_type": "code",
   "execution_count": null,
   "metadata": {},
   "outputs": [],
   "source": [
    "import re\n",
    "import numpy as np\n",
    "\n",
    "with open('input.txt', 'r') as f:\n",
    "  lines = f.read().splitlines()"
   ]
  },
  {
   "cell_type": "code",
   "execution_count": null,
   "metadata": {},
   "outputs": [],
   "source": [
    "M = np.array([list(l) for l in lines])\n",
    "\n",
    "# 2D 90 degree clockwise rotation.\n",
    "rot_right = np.array([\n",
    "   [ 0, 1],\n",
    "   [-1, 0]])\n",
    "\n",
    "# Helper function to check if a position is still on the map.\n",
    "def in_bounds(M, pos):\n",
    "  return 0 <= pos[0] < M.shape[0] and 0 <= pos[1] < M.shape[1]\n",
    "\n",
    "# Helper function to check if a given position on the map is an obstacle.\n",
    "def is_obstacle(M, pos):\n",
    "  return M[pos[0], pos[1]] == '#'\n",
    "\n",
    "# Initial position and direction vector.\n",
    "start_pos = np.array(np.where(M == '^')).flatten()\n",
    "start_v = np.array([-1, 0])\n",
    "\n",
    "def trace(M, pos, v):\n",
    "  # Counts the number of times each position was visited.\n",
    "  C = np.zeros(M.shape)\n",
    "\n",
    "  while in_bounds(M, pos):\n",
    "    # Mark cell as visited.\n",
    "    C[pos[0], pos[1]] += 1\n",
    "\n",
    "    # Bail if we're visiting this spot for the fourth time, which means that we're trapped in a cycle\n",
    "    # for sure (relevant for puzzle part 2).\n",
    "    if C[pos[0], pos[1]] >= 4:\n",
    "      return C\n",
    "\n",
    "    # Check what's ahead of us. If it's an obstacle, rotate right, otherwise take the step forward.\n",
    "    pos_prime = pos + v\n",
    "    if in_bounds(M, pos_prime) and is_obstacle(M, pos_prime):\n",
    "      v = np.matmul(rot_right, v)\n",
    "    else:\n",
    "      pos = pos_prime\n",
    "\n",
    "  return C\n",
    "\n",
    "# Part 1: count the number of cells the guard ever visits.\n",
    "C = trace(M, start_pos, start_v)\n",
    "np.count_nonzero(C)"
   ]
  },
  {
   "cell_type": "code",
   "execution_count": null,
   "metadata": {},
   "outputs": [],
   "source": [
    "n_cycles = 0\n",
    "\n",
    "# Part 2:\n",
    "# Iterate over the coverage from part 1, which contains all positions the guard will ever visit.\n",
    "# For each such position that isn't the starting position itself, place a new obstacle, then re-\n",
    "# run the trace and check if the result indicates that the guard was trapped in a cycle somewhere.\n",
    "for i in range(M.shape[0]):\n",
    "  for j in range(M.shape[1]):\n",
    "    if C[i, j] > 0 and (i, j) != tuple(start_pos):\n",
    "      M_prime = M.copy()\n",
    "      M_prime[i, j] = '#'\n",
    "      C_prime = trace(M_prime, start_pos, start_v)\n",
    "      if np.max(C_prime) >= 4:\n",
    "        n_cycles += 1\n",
    "\n",
    "n_cycles"
   ]
  }
 ],
 "metadata": {
  "kernelspec": {
   "display_name": "base",
   "language": "python",
   "name": "python3"
  },
  "language_info": {
   "codemirror_mode": {
    "name": "ipython",
    "version": 3
   },
   "file_extension": ".py",
   "mimetype": "text/x-python",
   "name": "python",
   "nbconvert_exporter": "python",
   "pygments_lexer": "ipython3",
   "version": "3.9.7"
  }
 },
 "nbformat": 4,
 "nbformat_minor": 2
}
