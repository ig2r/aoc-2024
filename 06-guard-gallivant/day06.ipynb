{
 "cells": [
  {
   "cell_type": "code",
   "execution_count": null,
   "metadata": {},
   "outputs": [],
   "source": [
    "import re\n",
    "import numpy as np\n",
    "\n",
    "with open('input.txt', 'r') as f:\n",
    "  lines = f.read().splitlines()"
   ]
  },
  {
   "cell_type": "code",
   "execution_count": null,
   "metadata": {},
   "outputs": [],
   "source": [
    "M = np.array([list(l) for l in lines])\n",
    "\n",
    "# 2D 90 degree clockwise rotation.\n",
    "rot_right = np.array([\n",
    "   [ 0, 1],\n",
    "   [-1, 0]])\n",
    "\n",
    "# Counts the number of times each position was visited.\n",
    "C = np.zeros(M.shape)\n",
    "\n",
    "# Initialize position and direction vector.\n",
    "pos = np.array(np.where(M == '^')).flatten()\n",
    "v = np.array([-1, 0])\n",
    "\n",
    "# Helper function to check if a position is still on the map.\n",
    "def in_bounds(M, pos):\n",
    "   return 0 <= pos[0] < M.shape[0] and 0 <= pos[1] < M.shape[1]\n",
    "\n",
    "# Helper function to check if a given position on the map is an obstacle.\n",
    "def is_obstacle(M, pos):\n",
    "  return M[pos[0], pos[1]] == '#'\n",
    "\n",
    "while in_bounds(M, pos):\n",
    "  # Mark cell as visited.\n",
    "  C[pos[0], pos[1]] = 1\n",
    "\n",
    "  # Check what's ahead of us. If it's an obstacle, rotate right, otherwise take the step forward.\n",
    "  pos_prime = pos + v\n",
    "  if in_bounds(M, pos_prime) and is_obstacle(M, pos_prime):\n",
    "    v = np.matmul(rot_right, v)\n",
    "  else:\n",
    "    pos = pos_prime\n",
    "\n",
    "np.count_nonzero(C)"
   ]
  }
 ],
 "metadata": {
  "kernelspec": {
   "display_name": "base",
   "language": "python",
   "name": "python3"
  },
  "language_info": {
   "codemirror_mode": {
    "name": "ipython",
    "version": 3
   },
   "file_extension": ".py",
   "mimetype": "text/x-python",
   "name": "python",
   "nbconvert_exporter": "python",
   "pygments_lexer": "ipython3",
   "version": "3.9.7"
  }
 },
 "nbformat": 4,
 "nbformat_minor": 2
}
