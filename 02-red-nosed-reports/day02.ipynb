{
 "cells": [
  {
   "cell_type": "code",
   "execution_count": null,
   "metadata": {},
   "outputs": [],
   "source": [
    "import re\n",
    "import numpy as np\n",
    "\n",
    "with open('input.txt', 'r') as f:\n",
    "  lines = f.read().splitlines()"
   ]
  },
  {
   "cell_type": "code",
   "execution_count": null,
   "metadata": {},
   "outputs": [],
   "source": [
    "reports = [[int(x) for x in line.split()]\n",
    "           for line in lines]\n",
    "\n",
    "def get_deltas(report):\n",
    "  return list(np.array(report[:-1]) - np.array(report[1:]))\n",
    "\n",
    "deltas = [get_deltas(report) for report in reports]"
   ]
  },
  {
   "cell_type": "code",
   "execution_count": null,
   "metadata": {},
   "outputs": [],
   "source": [
    "def is_safe(ds):\n",
    "  return all(d in [-1, -2, -3]  for d in ds) or all(d in [1, 2, 3] for d in ds)\n",
    "\n",
    "# Answer to part 1\n",
    "sum(is_safe(ds) for ds in deltas)"
   ]
  }
 ],
 "metadata": {
  "kernelspec": {
   "display_name": "base",
   "language": "python",
   "name": "python3"
  },
  "language_info": {
   "codemirror_mode": {
    "name": "ipython",
    "version": 3
   },
   "file_extension": ".py",
   "mimetype": "text/x-python",
   "name": "python",
   "nbconvert_exporter": "python",
   "pygments_lexer": "ipython3",
   "version": "3.9.7"
  }
 },
 "nbformat": 4,
 "nbformat_minor": 2
}
