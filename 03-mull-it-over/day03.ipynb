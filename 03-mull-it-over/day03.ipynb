{
 "cells": [
  {
   "cell_type": "code",
   "execution_count": null,
   "metadata": {},
   "outputs": [],
   "source": [
    "import re\n",
    "\n",
    "with open('input.txt', 'r') as f:\n",
    "  input = f.read()"
   ]
  },
  {
   "cell_type": "code",
   "execution_count": null,
   "metadata": {},
   "outputs": [],
   "source": [
    "matches = re.findall('mul\\((\\d+),(\\d+)\\)', input)\n",
    "\n",
    "products = [int(x) * int(y) for (x, y) in matches]\n",
    "sum(products)"
   ]
  },
  {
   "cell_type": "code",
   "execution_count": null,
   "metadata": {},
   "outputs": [],
   "source": [
    "matches = re.findall('(mul\\((\\d+),(\\d+)\\)|don\\'t|do)', input)\n",
    "\n",
    "z = 0\n",
    "care = True\n",
    "\n",
    "for m in matches:\n",
    "  if 'mul' in m[0]:\n",
    "    if care:\n",
    "      x, y = m[1], m[2]\n",
    "      p = int(x) * int(y)\n",
    "      z += p\n",
    "  elif m[0] == 'do':\n",
    "    care = True\n",
    "  elif m[0] == 'don\\'t':\n",
    "    care = False\n",
    "\n",
    "z"
   ]
  }
 ],
 "metadata": {
  "kernelspec": {
   "display_name": "base",
   "language": "python",
   "name": "python3"
  },
  "language_info": {
   "codemirror_mode": {
    "name": "ipython",
    "version": 3
   },
   "file_extension": ".py",
   "mimetype": "text/x-python",
   "name": "python",
   "nbconvert_exporter": "python",
   "pygments_lexer": "ipython3",
   "version": "3.9.7"
  }
 },
 "nbformat": 4,
 "nbformat_minor": 2
}
