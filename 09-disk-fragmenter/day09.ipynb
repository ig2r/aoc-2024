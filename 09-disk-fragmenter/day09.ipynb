{
 "cells": [
  {
   "cell_type": "code",
   "execution_count": null,
   "metadata": {},
   "outputs": [],
   "source": [
    "import re\n",
    "import numpy as np\n",
    "\n",
    "with open('input.txt', 'r') as f:\n",
    "  lines = f.read().splitlines()"
   ]
  },
  {
   "cell_type": "code",
   "execution_count": null,
   "metadata": {},
   "outputs": [],
   "source": [
    "disk_map = list(map(int, list(lines[0])))\n",
    "\n",
    "# Files in disk map as tuples (offset, file_id, length).\n",
    "blocks = []\n",
    "offset = 0\n",
    "file_id = 0\n",
    "\n",
    "for i in range(len(disk_map)):\n",
    "  if i % 2 == 0:\n",
    "    blocks.append((offset, file_id, disk_map[i]))\n",
    "    file_id += 1\n",
    "  offset += disk_map[i]\n",
    "\n",
    "def show_layout(blocks):\n",
    "  vis = ''\n",
    "  x = 0\n",
    "  for (offset, file_id, length) in blocks:\n",
    "    while x < offset:\n",
    "      vis += '.'\n",
    "      x += 1\n",
    "    for i in range(length):\n",
    "      vis += f'{file_id}'\n",
    "      x += 1\n",
    "  return vis\n",
    "\n",
    "def defrag(blocks):\n",
    "  result = []\n",
    "  i, j = 0, len(blocks) - 1\n",
    "  write_offset = 0\n",
    "\n",
    "  while i <= j:\n",
    "    # Find out if there's already a block starting at write_offset, or if we need to fill some free space.\n",
    "    (head_offset, head_file_id, head_length) = blocks[i]\n",
    "    (tail_offset, tail_file_id, tail_length) = blocks[j]\n",
    "\n",
    "    if head_offset == write_offset:\n",
    "      result.append(blocks[i])\n",
    "      write_offset += head_length\n",
    "      i += 1\n",
    "    else:\n",
    "      # Reallocate from the tail to fill the free space:\n",
    "      free_space = head_offset - write_offset\n",
    "      if tail_length <= free_space:\n",
    "        result.append((write_offset, tail_file_id, tail_length))\n",
    "        write_offset += tail_length\n",
    "        j -= 1\n",
    "      else:\n",
    "        blocks = blocks[:j] + [(tail_offset, tail_file_id, tail_length - free_space)] + blocks[(j + 1):]\n",
    "        result.append((write_offset, tail_file_id, free_space))\n",
    "        write_offset += free_space\n",
    "\n",
    "  return result\n",
    "\n",
    "blocks_defragged = defrag(blocks)"
   ]
  },
  {
   "cell_type": "code",
   "execution_count": null,
   "metadata": {},
   "outputs": [],
   "source": [
    "def checksum(blocks):\n",
    "  last_elem = blocks[-1]\n",
    "  eof_offset = last_elem[0] + last_elem[2]\n",
    "\n",
    "  result = 0\n",
    "  for (b_offset, b_file_id, b_length) in blocks:\n",
    "    for i in range(b_length):\n",
    "      result += (b_offset + i) * b_file_id\n",
    "  return result\n",
    "\n",
    "checksum(blocks_defragged)"
   ]
  }
 ],
 "metadata": {
  "kernelspec": {
   "display_name": "base",
   "language": "python",
   "name": "python3"
  },
  "language_info": {
   "codemirror_mode": {
    "name": "ipython",
    "version": 3
   },
   "file_extension": ".py",
   "mimetype": "text/x-python",
   "name": "python",
   "nbconvert_exporter": "python",
   "pygments_lexer": "ipython3",
   "version": "3.9.7"
  }
 },
 "nbformat": 4,
 "nbformat_minor": 2
}
