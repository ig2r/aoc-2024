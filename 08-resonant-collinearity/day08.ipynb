{
 "cells": [
  {
   "cell_type": "code",
   "execution_count": null,
   "metadata": {},
   "outputs": [],
   "source": [
    "import re\n",
    "import numpy as np\n",
    "\n",
    "with open('input.txt', 'r') as f:\n",
    "  lines = f.read().splitlines()"
   ]
  },
  {
   "cell_type": "code",
   "execution_count": null,
   "metadata": {},
   "outputs": [],
   "source": [
    "M = np.array([list(l) for l in lines])\n",
    "\n",
    "# Extract antenna locations, keyed by type.\n",
    "antennas = dict()\n",
    "for i in range(M.shape[0]):\n",
    "  for j in range(M.shape[1]):\n",
    "    if M[i, j] != '.':\n",
    "      antennas[M[i, j]] = antennas.get(M[i, j], []) + [np.array([i, j])]\n",
    "\n",
    "def in_bounds(map_shape, s):\n",
    "  return 0 <= s[0] < map_shape[0] and 0 <= s[1] < map_shape[1]\n",
    "\n",
    "# Generates up to two antinodes, collinear with the input antennas.\n",
    "def antinodes(map_shape, s, t):\n",
    "  d = t - s\n",
    "  candidates = [s - d, t + d]\n",
    "  return [c for c in candidates if in_bounds(map_shape, c)]\n",
    "\n",
    "# Counts the number of antinodes per location on the map based on a function that\n",
    "# generates antinode coordinates given the shape of the map and the coordinates for\n",
    "# two antennas of the same frequency.\n",
    "def count_antinode_locations(M, antennas, antinodes_func):\n",
    "  C = np.zeros(M.shape)\n",
    "\n",
    "  for freq in antennas.keys():\n",
    "    coords = antennas[freq]\n",
    "    for i in range(len(coords)):\n",
    "      for j in range(i):\n",
    "        s, t = coords[i], coords[j]\n",
    "        for [i_a, j_a] in antinodes_func(M.shape, s, t):\n",
    "          C[i_a, j_a] += 1\n",
    "\n",
    "  return np.count_nonzero(C)\n",
    "\n",
    "  # Part 1\n",
    "count_antinode_locations(M, antennas, antinodes)"
   ]
  },
  {
   "cell_type": "code",
   "execution_count": null,
   "metadata": {},
   "outputs": [],
   "source": [
    "def antinodes_harmonics(map_shape, s, t):\n",
    "  d = t - s\n",
    "  result = []\n",
    "  while in_bounds(map_shape, s):\n",
    "    result.append(s)\n",
    "    s = s - d\n",
    "  while in_bounds(map_shape, t):\n",
    "    result.append(t)\n",
    "    t = t + d\n",
    "  return result\n",
    "\n",
    "# Part 2\n",
    "count_antinode_locations(M, antennas, antinodes_harmonics)"
   ]
  }
 ],
 "metadata": {
  "kernelspec": {
   "display_name": "base",
   "language": "python",
   "name": "python3"
  },
  "language_info": {
   "codemirror_mode": {
    "name": "ipython",
    "version": 3
   },
   "file_extension": ".py",
   "mimetype": "text/x-python",
   "name": "python",
   "nbconvert_exporter": "python",
   "pygments_lexer": "ipython3",
   "version": "3.9.7"
  }
 },
 "nbformat": 4,
 "nbformat_minor": 2
}
