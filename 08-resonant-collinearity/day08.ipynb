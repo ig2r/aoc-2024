{
 "cells": [
  {
   "cell_type": "code",
   "execution_count": null,
   "metadata": {},
   "outputs": [],
   "source": [
    "import re\n",
    "import numpy as np\n",
    "\n",
    "with open('input.txt', 'r') as f:\n",
    "  lines = f.read().splitlines()"
   ]
  },
  {
   "cell_type": "code",
   "execution_count": null,
   "metadata": {},
   "outputs": [],
   "source": [
    "M = np.array([list(l) for l in lines])\n",
    "\n",
    "# Extract antenna locations, keyed by type.\n",
    "antennas = dict()\n",
    "for i in range(M.shape[0]):\n",
    "  for j in range(M.shape[1]):\n",
    "    if M[i, j] != '.':\n",
    "      antennas[M[i, j]] = antennas.get(M[i, j], []) + [np.array([i, j])]\n",
    "\n",
    "def antinodes(s, t):\n",
    "  d = t - s\n",
    "  return [s - d, t + d]\n",
    "\n",
    "# Counts the number of antinodes per location on the map.\n",
    "C = np.zeros(M.shape)\n",
    "\n",
    "for freq in antennas.keys():\n",
    "  coords = antennas[freq]\n",
    "  for i in range(len(coords)):\n",
    "    for j in range(i):\n",
    "      s, t = coords[i], coords[j]\n",
    "      for [i_a, j_a] in antinodes(s, t):\n",
    "        if 0 <= i_a < M.shape[0] and 0 <= j_a < M.shape[1]:\n",
    "          C[i_a, j_a] += 1\n",
    "\n",
    "# Part 1\n",
    "np.count_nonzero(C)"
   ]
  }
 ],
 "metadata": {
  "kernelspec": {
   "display_name": "base",
   "language": "python",
   "name": "python3"
  },
  "language_info": {
   "codemirror_mode": {
    "name": "ipython",
    "version": 3
   },
   "file_extension": ".py",
   "mimetype": "text/x-python",
   "name": "python",
   "nbconvert_exporter": "python",
   "pygments_lexer": "ipython3",
   "version": "3.9.7"
  }
 },
 "nbformat": 4,
 "nbformat_minor": 2
}
