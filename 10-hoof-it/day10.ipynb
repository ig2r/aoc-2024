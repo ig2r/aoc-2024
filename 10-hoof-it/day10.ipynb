{
 "cells": [
  {
   "cell_type": "code",
   "execution_count": 26,
   "metadata": {},
   "outputs": [],
   "source": [
    "import re\n",
    "import numpy as np\n",
    "\n",
    "with open('input.txt', 'r') as f:\n",
    "  lines = f.read().splitlines()"
   ]
  },
  {
   "cell_type": "code",
   "execution_count": 27,
   "metadata": {},
   "outputs": [
    {
     "data": {
      "text/plain": [
       "760"
      ]
     },
     "execution_count": 27,
     "metadata": {},
     "output_type": "execute_result"
    }
   ],
   "source": [
    "M = np.array([[int(x) for x in list(l)] for l in lines])\n",
    "\n",
    "[S, T] = np.where(M == 0)\n",
    "trailheads = list(zip(S, T))\n",
    "\n",
    "def in_bounds(M, s):\n",
    "  return 0 <= s[0] < M.shape[0] and 0 <= s[1] < M.shape[1]\n",
    "\n",
    "def summits(M, trailhead):\n",
    "  active = { trailhead }\n",
    "  for h in range(1, 10):\n",
    "    active_prime = set()\n",
    "    for (i, j) in active:\n",
    "      for (i_delta, j_delta) in [(-1, 0), (0, -1), (1, 0), (0, 1)]:\n",
    "        i_neighbor, j_neighbor = i + i_delta, j + j_delta\n",
    "        if in_bounds(M, (i_neighbor, j_neighbor)) and M[i_neighbor, j_neighbor] == h:\n",
    "          active_prime.add((i_neighbor, j_neighbor))\n",
    "    active = active_prime\n",
    "  return active\n",
    "\n",
    "def trailhead_score(M, trailhead):\n",
    "  return len(summits(M, trailhead))\n",
    "\n",
    "# Part 1\n",
    "sum(trailhead_score(M, trailhead) for trailhead in trailheads)"
   ]
  }
 ],
 "metadata": {
  "kernelspec": {
   "display_name": "base",
   "language": "python",
   "name": "python3"
  },
  "language_info": {
   "codemirror_mode": {
    "name": "ipython",
    "version": 3
   },
   "file_extension": ".py",
   "mimetype": "text/x-python",
   "name": "python",
   "nbconvert_exporter": "python",
   "pygments_lexer": "ipython3",
   "version": "3.9.7"
  }
 },
 "nbformat": 4,
 "nbformat_minor": 2
}
