{
 "cells": [
  {
   "cell_type": "code",
   "execution_count": null,
   "metadata": {},
   "outputs": [],
   "source": [
    "import re\n",
    "import numpy as np\n",
    "\n",
    "with open('input.txt', 'r') as f:\n",
    "  lines = f.read().splitlines()"
   ]
  },
  {
   "cell_type": "code",
   "execution_count": null,
   "metadata": {},
   "outputs": [],
   "source": [
    "M = np.array([[int(x) for x in list(l)] for l in lines])\n",
    "\n",
    "[S, T] = np.where(M == 0)\n",
    "trailheads = list(zip(S, T))\n",
    "\n",
    "def in_bounds(M, s):\n",
    "  return 0 <= s[0] < M.shape[0] and 0 <= s[1] < M.shape[1]\n",
    "\n",
    "def summits(M, trailhead):\n",
    "  active = { trailhead }\n",
    "  for h in range(1, 10):\n",
    "    active_prime = set()\n",
    "    for (i, j) in active:\n",
    "      for (i_delta, j_delta) in [(-1, 0), (0, -1), (1, 0), (0, 1)]:\n",
    "        i_neighbor, j_neighbor = i + i_delta, j + j_delta\n",
    "        if in_bounds(M, (i_neighbor, j_neighbor)) and M[i_neighbor, j_neighbor] == h:\n",
    "          active_prime.add((i_neighbor, j_neighbor))\n",
    "    active = active_prime\n",
    "  return active\n",
    "\n",
    "def trailhead_score(M, trailhead):\n",
    "  return len(summits(M, trailhead))\n",
    "\n",
    "# Part 1\n",
    "sum(trailhead_score(M, trailhead) for trailhead in trailheads)"
   ]
  },
  {
   "cell_type": "code",
   "execution_count": null,
   "metadata": {},
   "outputs": [],
   "source": [
    "# Part 2:\n",
    "# We'll gradually build a count matrix C that, for each cell, tracks the number of summits that can reached from that point.\n",
    "# We'll initialize C with 1 in the summit positions, then descend level by level and fill in the counts for that level h\n",
    "# by summing the entries in C from surrounding cells of level h + 1.\n",
    "# Finally, we'll sum the entries in C at positions with height 0 (= trailheads).\n",
    "C = np.zeros(M.shape)\n",
    "C[np.where(M == 9)] = 1\n",
    "\n",
    "# Count from 8 ... 0\n",
    "for h in reversed(range(9)):\n",
    "  for [i, j] in np.argwhere(M == h):\n",
    "    # Check how many trails from h+1 are around this point:\n",
    "    for (di, dj) in [(-1, 0), (1, 0), (0, -1), (0, 1)]:\n",
    "      i_prime, j_prime = i + di, j + dj\n",
    "      if in_bounds(M, (i_prime, j_prime)) and M[i_prime, j_prime] == h + 1:\n",
    "        C[i, j] += C[i_prime, j_prime]\n",
    "\n",
    "sum(C[i, j] for [i, j] in np.argwhere(M == 0))"
   ]
  }
 ],
 "metadata": {
  "kernelspec": {
   "display_name": "base",
   "language": "python",
   "name": "python3"
  },
  "language_info": {
   "codemirror_mode": {
    "name": "ipython",
    "version": 3
   },
   "file_extension": ".py",
   "mimetype": "text/x-python",
   "name": "python",
   "nbconvert_exporter": "python",
   "pygments_lexer": "ipython3",
   "version": "3.9.7"
  }
 },
 "nbformat": 4,
 "nbformat_minor": 2
}
