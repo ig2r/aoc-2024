{
 "cells": [
  {
   "cell_type": "code",
   "execution_count": null,
   "metadata": {},
   "outputs": [],
   "source": [
    "import re\n",
    "import numpy as np\n",
    "\n",
    "with open('input.txt', 'r') as f:\n",
    "  lines = f.read().splitlines()"
   ]
  },
  {
   "cell_type": "code",
   "execution_count": null,
   "metadata": {},
   "outputs": [],
   "source": [
    "# Part 1\n",
    "arr = np.array([list(l) for l in lines])\n",
    "\n",
    "def count_xmas_horizontal(arr):\n",
    "  c = 0\n",
    "  for i in range(arr.shape[0]):\n",
    "    for j in range(arr.shape[1] - 3):\n",
    "      if arr[i, j] == 'X' and arr[i, j + 1] == 'M' and arr[i, j + 2] == 'A' and arr[i, j + 3] == 'S':\n",
    "        c += 1\n",
    "  return c\n",
    "\n",
    "def count_xmas_diagonal(arr):\n",
    "  c = 0\n",
    "  for i in range(arr.shape[0] - 3):\n",
    "    for j in range(arr.shape[1] - 3):\n",
    "      if arr[i, j] == 'X' and arr[i + 1, j + 1] == 'M' and arr[i + 2, j + 2] == 'A' and arr[i + 3, j + 3] == 'S':\n",
    "        c += 1\n",
    "  return c\n",
    "\n",
    "def count_xmas(arr):\n",
    "  return count_xmas_horizontal(arr) + count_xmas_diagonal(arr)\n",
    "\n",
    "c = 0\n",
    "for i in range(4):\n",
    " c += count_xmas(arr)\n",
    " arr = np.rot90(arr)\n",
    "\n",
    "print(c)"
   ]
  }
 ],
 "metadata": {
  "kernelspec": {
   "display_name": "base",
   "language": "python",
   "name": "python3"
  },
  "language_info": {
   "codemirror_mode": {
    "name": "ipython",
    "version": 3
   },
   "file_extension": ".py",
   "mimetype": "text/x-python",
   "name": "python",
   "nbconvert_exporter": "python",
   "pygments_lexer": "ipython3",
   "version": "3.9.7"
  }
 },
 "nbformat": 4,
 "nbformat_minor": 2
}
