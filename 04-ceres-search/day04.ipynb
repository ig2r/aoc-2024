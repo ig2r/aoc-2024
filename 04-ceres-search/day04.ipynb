{
 "cells": [
  {
   "cell_type": "code",
   "execution_count": null,
   "metadata": {},
   "outputs": [],
   "source": [
    "import re\n",
    "import numpy as np\n",
    "\n",
    "with open('input.txt', 'r') as f:\n",
    "  lines = f.read().splitlines()"
   ]
  },
  {
   "cell_type": "code",
   "execution_count": null,
   "metadata": {},
   "outputs": [],
   "source": [
    "# Part 1\n",
    "M = np.array([list(l) for l in lines])\n",
    "\n",
    "def count_xmas_horizontal(M):\n",
    "  c = 0\n",
    "  for i in range(M.shape[0]):\n",
    "    for j in range(M.shape[1] - 3):\n",
    "      if M[i, j] == 'X' and M[i, j + 1] == 'M' and M[i, j + 2] == 'A' and M[i, j + 3] == 'S':\n",
    "        c += 1\n",
    "  return c\n",
    "\n",
    "def count_xmas_diagonal(M):\n",
    "  c = 0\n",
    "  for i in range(M.shape[0] - 3):\n",
    "    for j in range(M.shape[1] - 3):\n",
    "      if M[i, j] == 'X' and M[i + 1, j + 1] == 'M' and M[i + 2, j + 2] == 'A' and M[i + 3, j + 3] == 'S':\n",
    "        c += 1\n",
    "  return c\n",
    "\n",
    "def count_xmas(M):\n",
    "  return count_xmas_horizontal(M) + count_xmas_diagonal(M)\n",
    "\n",
    "c = 0\n",
    "M_prime = M\n",
    "\n",
    "for i in range(4):\n",
    " c += count_xmas(M_prime)\n",
    " M_prime = np.rot90(M_prime)\n",
    "\n",
    "c"
   ]
  },
  {
   "cell_type": "code",
   "execution_count": null,
   "metadata": {},
   "outputs": [],
   "source": [
    "# Part 2\n",
    "\n",
    "# Given a 3x3 matrix W with 'A' in the center, determines if the main diagonal spells 'MAS'.\n",
    "def is_mas_diagonal(W):\n",
    "  return W[0, 0] == 'M' and W[2, 2] == 'S'\n",
    "\n",
    "# Given a 3x3 matrix W with 'A' in the center, counts the number of diagonals that spell 'MAS'.\n",
    "def count_mas(W):\n",
    "  c = 0\n",
    "  for i in range(4):\n",
    "    if is_mas_diagonal(W):\n",
    "      c += 1\n",
    "    W = np.rot90(W)\n",
    "  return c\n",
    "\n",
    "n_crosses = 0\n",
    "\n",
    "for i in range(1, M.shape[0] - 1):\n",
    "  for j in range(1, M.shape[1] - 1):\n",
    "    W = M[(i - 1):(i + 2), (j - 1):(j + 2)]\n",
    "    if W[1, 1] == 'A':\n",
    "      if count_mas(W) >= 2:\n",
    "        n_crosses += 1\n",
    "\n",
    "n_crosses"
   ]
  }
 ],
 "metadata": {
  "kernelspec": {
   "display_name": "base",
   "language": "python",
   "name": "python3"
  },
  "language_info": {
   "codemirror_mode": {
    "name": "ipython",
    "version": 3
   },
   "file_extension": ".py",
   "mimetype": "text/x-python",
   "name": "python",
   "nbconvert_exporter": "python",
   "pygments_lexer": "ipython3",
   "version": "3.9.7"
  }
 },
 "nbformat": 4,
 "nbformat_minor": 2
}
