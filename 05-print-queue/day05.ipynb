{
 "cells": [
  {
   "cell_type": "code",
   "execution_count": null,
   "metadata": {},
   "outputs": [],
   "source": [
    "import re\n",
    "import numpy as np\n",
    "\n",
    "with open('input.txt', 'r') as f:\n",
    "  lines = f.read().splitlines()"
   ]
  },
  {
   "cell_type": "code",
   "execution_count": null,
   "metadata": {},
   "outputs": [],
   "source": [
    "separator_index = lines.index('')\n",
    "rule_lines, job_lines = lines[:separator_index], lines[separator_index + 1:]\n",
    "\n",
    "rules = [tuple(l.split('|')) for l in rule_lines]\n",
    "jobs = [l.split(',') for l in job_lines]"
   ]
  },
  {
   "cell_type": "code",
   "execution_count": null,
   "metadata": {},
   "outputs": [],
   "source": [
    "# Part 1\n",
    "\n",
    "# For all page combinations i, j that appear in a job, check if the rule set contains\n",
    "# a contradicting rule.\n",
    "def is_job_valid(rules, job):\n",
    "  for i in range(len(job)):\n",
    "    for j in range(i):\n",
    "      if (job[i], job[j]) in rules:\n",
    "        return False\n",
    "  return True\n",
    "\n",
    "def middle_page(job):\n",
    "  p = job[len(job) // 2]\n",
    "  return int(p)\n",
    "\n",
    "valid_jobs = [job for job in jobs if is_job_valid(rules, job)]\n",
    "middle_pages = [middle_page(job) for job in valid_jobs]\n",
    "sum(middle_pages)"
   ]
  },
  {
   "cell_type": "code",
   "execution_count": null,
   "metadata": {},
   "outputs": [],
   "source": [
    "invalid_jobs = [job for job in jobs if not is_job_valid(rules, job)]\n",
    "\n",
    "def topo_sort(rules, job):\n",
    "  result = []\n",
    "  while len(job) > 0:\n",
    "    # Filter to applicable rules.\n",
    "    rules = [(l, r) for (l, r) in rules if l in job and r in job]\n",
    "\n",
    "    # Pick a page that DOES NOT appear on the right side of a rule.\n",
    "    for i in range(len(job)):\n",
    "      if all(rule[1] != job[i] for rule in rules):\n",
    "        result.append(job[i])\n",
    "        job = job[:i] + job[(i + 1):]\n",
    "        break\n",
    "\n",
    "  return result\n",
    "\n",
    "middle_ordered_pages = [middle_page(topo_sort(rules, job)) for job in invalid_jobs]\n",
    "sum(middle_ordered_pages)"
   ]
  }
 ],
 "metadata": {
  "kernelspec": {
   "display_name": "base",
   "language": "python",
   "name": "python3"
  },
  "language_info": {
   "codemirror_mode": {
    "name": "ipython",
    "version": 3
   },
   "file_extension": ".py",
   "mimetype": "text/x-python",
   "name": "python",
   "nbconvert_exporter": "python",
   "pygments_lexer": "ipython3",
   "version": "3.9.7"
  }
 },
 "nbformat": 4,
 "nbformat_minor": 2
}
