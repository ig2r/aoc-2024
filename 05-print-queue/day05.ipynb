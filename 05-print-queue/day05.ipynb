{
 "cells": [
  {
   "cell_type": "code",
   "execution_count": null,
   "metadata": {},
   "outputs": [],
   "source": [
    "import re\n",
    "import numpy as np\n",
    "\n",
    "with open('input.txt', 'r') as f:\n",
    "  lines = f.read().splitlines()"
   ]
  },
  {
   "cell_type": "code",
   "execution_count": null,
   "metadata": {},
   "outputs": [],
   "source": [
    "separator_index = lines.index('')\n",
    "rule_lines, job_lines = lines[:separator_index], lines[separator_index + 1:]\n",
    "\n",
    "rules = [tuple(l.split('|')) for l in rule_lines]\n",
    "jobs = [l.split(',') for l in job_lines]"
   ]
  },
  {
   "cell_type": "code",
   "execution_count": null,
   "metadata": {},
   "outputs": [],
   "source": [
    "# Part 1\n",
    "\n",
    "# For all page combinations i, j that appear in a job, check if the rule set contains\n",
    "# a contradicting rule.\n",
    "def is_job_valid(rules, job):\n",
    "  for i in range(len(job)):\n",
    "    for j in range(i):\n",
    "      if (job[i], job[j]) in rules:\n",
    "        return False\n",
    "  return True\n",
    "\n",
    "def middle_page(job):\n",
    "  p = job[len(job) // 2]\n",
    "  return int(p)\n",
    "\n",
    "valid_jobs = [j for j in jobs if is_job_valid(rules, j)]\n",
    "middle_pages = [middle_page(j) for j in valid_jobs]\n",
    "sum(middle_pages)"
   ]
  }
 ],
 "metadata": {
  "kernelspec": {
   "display_name": "base",
   "language": "python",
   "name": "python3"
  },
  "language_info": {
   "codemirror_mode": {
    "name": "ipython",
    "version": 3
   },
   "file_extension": ".py",
   "mimetype": "text/x-python",
   "name": "python",
   "nbconvert_exporter": "python",
   "pygments_lexer": "ipython3",
   "version": "3.9.7"
  }
 },
 "nbformat": 4,
 "nbformat_minor": 2
}
