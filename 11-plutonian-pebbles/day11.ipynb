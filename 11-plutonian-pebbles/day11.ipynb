{
 "cells": [
  {
   "cell_type": "code",
   "execution_count": null,
   "metadata": {},
   "outputs": [],
   "source": [
    "import re\n",
    "import numpy as np\n",
    "from collections import Counter\n",
    "\n",
    "with open('input.txt', 'r') as f:\n",
    "  lines = f.read().splitlines()"
   ]
  },
  {
   "cell_type": "code",
   "execution_count": null,
   "metadata": {},
   "outputs": [],
   "source": [
    "pebbles = lines[0].split()\n",
    "\n",
    "def transmogrify(pebble):\n",
    "  if pebble == '0':\n",
    "    return ['1']\n",
    "  elif len(pebble) % 2 == 0:\n",
    "    p1, p2 = [pebble[:len(pebble) // 2], pebble[len(pebble) // 2:]]\n",
    "    p2 = str(int(p2))\n",
    "    return [p1, p2]\n",
    "  else:\n",
    "    return [str(2024 * int(pebble))]\n",
    "\n",
    "def blink(pebbles, times):\n",
    "  pebble_counts = { p: 1 for p in pebbles }   # Trust the input contains only distinct values.\n",
    "\n",
    "  for i in range(times):\n",
    "    pebble_counts_prime = dict()\n",
    "    for pebble, count in pebble_counts.items():\n",
    "      ts = transmogrify(pebble)\n",
    "      for t in ts:\n",
    "        pebble_counts_prime[t] = pebble_counts_prime.get(t, 0) + count\n",
    "    pebble_counts = pebble_counts_prime\n",
    "  return sum(pebble_counts.values())"
   ]
  },
  {
   "cell_type": "code",
   "execution_count": null,
   "metadata": {},
   "outputs": [],
   "source": [
    "# Part 1:\n",
    "blink(pebbles, 25)"
   ]
  },
  {
   "cell_type": "code",
   "execution_count": null,
   "metadata": {},
   "outputs": [],
   "source": [
    "# Part 2:\n",
    "blink(pebbles, 75)"
   ]
  }
 ],
 "metadata": {
  "kernelspec": {
   "display_name": "base",
   "language": "python",
   "name": "python3"
  },
  "language_info": {
   "codemirror_mode": {
    "name": "ipython",
    "version": 3
   },
   "file_extension": ".py",
   "mimetype": "text/x-python",
   "name": "python",
   "nbconvert_exporter": "python",
   "pygments_lexer": "ipython3",
   "version": "3.9.7"
  }
 },
 "nbformat": 4,
 "nbformat_minor": 2
}
