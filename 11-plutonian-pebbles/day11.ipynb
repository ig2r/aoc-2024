{
 "cells": [
  {
   "cell_type": "code",
   "execution_count": null,
   "metadata": {},
   "outputs": [],
   "source": [
    "import re\n",
    "import numpy as np\n",
    "\n",
    "with open('input.txt', 'r') as f:\n",
    "  lines = f.read().splitlines()"
   ]
  },
  {
   "cell_type": "code",
   "execution_count": null,
   "metadata": {},
   "outputs": [],
   "source": [
    "pebbles = lines[0].split()\n",
    "\n",
    "def transmogrify(pebble):\n",
    "  if pebble == '0':\n",
    "    return ['1']\n",
    "  elif len(pebble) % 2 == 0:\n",
    "    p1, p2 = [pebble[:len(pebble) // 2], pebble[len(pebble) // 2:]]\n",
    "    p2 = str(int(p2))\n",
    "    return [p1, p2]\n",
    "  else:\n",
    "    return [str(2024 * int(pebble))]\n",
    "\n",
    "for i in range(25):\n",
    "  pebbles = [ts for p in pebbles for ts in transmogrify(p)]\n",
    "\n",
    "# Solution to part 1:\n",
    "len(pebbles)"
   ]
  }
 ],
 "metadata": {
  "kernelspec": {
   "display_name": "base",
   "language": "python",
   "name": "python3"
  },
  "language_info": {
   "codemirror_mode": {
    "name": "ipython",
    "version": 3
   },
   "file_extension": ".py",
   "mimetype": "text/x-python",
   "name": "python",
   "nbconvert_exporter": "python",
   "pygments_lexer": "ipython3",
   "version": "3.9.7"
  }
 },
 "nbformat": 4,
 "nbformat_minor": 2
}
